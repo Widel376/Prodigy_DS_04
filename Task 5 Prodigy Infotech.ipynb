{
 "cells": [
  {
   "cell_type": "code",
   "execution_count": null,
   "id": "9fda9b4b",
   "metadata": {},
   "outputs": [],
   "source": [
    "import pandas as pd\n",
    "import matplotlib.pyplot as plt\n",
    "import seaborn as sns\n",
    "\n",
    "data = pd.read_csv(\"accident_data.csv\")\n",
    "     \n",
    "\n",
    "print(data.head())\n",
    "print(data.info())\n",
    "print(data.describe())\n",
    "\n",
    "# Traffic accident data based on the road conditions\n",
    "plt.figure(figsize=(10, 6))\n",
    "sns.countplot(x='Road Conditions', data=data)\n",
    "plt.title('Accidents that took place based on Road Conditions')\n",
    "plt.xlabel('Road Conditions')\n",
    "plt.ylabel('Number of Accidents')\n",
    "plt.xticks(rotation=30)\n",
    "plt.show()\n",
    "\n",
    "# Traffic accident data based on the weather conditions\n",
    "plt.figure(figsize=(10, 6))\n",
    "sns.countplot(x='Weather Conditions', data=data)\n",
    "plt.title('Accidents that took place based on Weather Conditions')\n",
    "plt.xlabel('Weather Conditions')\n",
    "plt.ylabel('Number of Accidents')\n",
    "plt.xticks(rotation=30)\n",
    "plt.show()\n",
    "\n",
    "data['DateTime'] = pd.to_datetime(data['Date'] + ' ' + data['Time'])\n",
    "\n",
    "# 'DateTime' as the index\n",
    "data.set_index('DateTime', inplace=True)\n",
    "     \n",
    "\n",
    "# Traffic accident data based on the time of the day\n",
    "plt.figure(figsize=(10, 6))\n",
    "data.index.hour.value_counts().sort_index().plot(kind='bar',color='blue')\n",
    "plt.title('Accidents that took place based on the Time of Day')\n",
    "plt.xlabel('Time of the Day')\n",
    "plt.ylabel('Number of Accidents')\n",
    "plt.xticks(rotation=30)\n",
    "plt.show()\n",
    "     \n"
   ]
  },
  {
   "cell_type": "code",
   "execution_count": null,
   "id": "a6bbfe42",
   "metadata": {},
   "outputs": [],
   "source": []
  },
  {
   "cell_type": "code",
   "execution_count": null,
   "id": "2bdde47c",
   "metadata": {},
   "outputs": [],
   "source": []
  }
 ],
 "metadata": {
  "kernelspec": {
   "display_name": "Python 3 (ipykernel)",
   "language": "python",
   "name": "python3"
  },
  "language_info": {
   "codemirror_mode": {
    "name": "ipython",
    "version": 3
   },
   "file_extension": ".py",
   "mimetype": "text/x-python",
   "name": "python",
   "nbconvert_exporter": "python",
   "pygments_lexer": "ipython3",
   "version": "3.9.13"
  }
 },
 "nbformat": 4,
 "nbformat_minor": 5
}
